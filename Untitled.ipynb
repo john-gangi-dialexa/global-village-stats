{
 "cells": [
  {
   "cell_type": "code",
   "execution_count": 2,
   "id": "d0d89c0c",
   "metadata": {},
   "outputs": [
    {
     "ename": "SyntaxError",
     "evalue": "invalid syntax (2346630652.py, line 29)",
     "output_type": "error",
     "traceback": [
      "\u001b[0;36m  Cell \u001b[0;32mIn[2], line 29\u001b[0;36m\u001b[0m\n\u001b[0;31m    scaled_continent_pop <- continent_pop_2021 %>%\u001b[0m\n\u001b[0m                                                ^\u001b[0m\n\u001b[0;31mSyntaxError\u001b[0m\u001b[0;31m:\u001b[0m invalid syntax\n"
     ]
    }
   ],
   "source": [
    "library(dplyr)\n",
    "\n",
    "# Estimated world population and continent populations in 2021\n",
    "world_pop_2021 <- 7.8e9\n",
    "continent_pop_2021 <- data.frame(\n",
    "  continent = c(\"Africa\", \"Asia\", \"Europe\", \"North America\", \"South America\", \"Australia\"),\n",
    "  population = c(1.3e9, 4.7e9, 747e6, 592e6, 430e6, 39e6),\n",
    "  population_density = c(44, 150, 73, 23, 24, 3),\n",
    "  average_annual_wage = c(3000, 10000, 40000, 40000, 15000, 50000)\n",
    ")\n",
    "\n",
    "# Sample housing type percentages for each continent\n",
    "housing_types <- c(\"detached\", \"apartment\", \"factory_dorm\", \"townhouse\", \"duplex\", \"bungalow\", \"mobile_home\", \"co_housing\", \"informal_settlement\", \"villa\")\n",
    "\n",
    "housing_data <- data.frame(\n",
    "  continent = rep(c(\"Africa\", \"Asia\", \"Europe\", \"North America\", \"South America\", \"Australia\"), each = length(housing_types)),\n",
    "  housing_type = rep(housing_types, 6),\n",
    "  housing_type_percentage = c(\n",
    "    40, 20, 5, 5, 5, 5, 5, 5, 5, 0,\n",
    "    30, 40, 5, 5, 5, 5, 0, 5, 0, 5,\n",
    "    30, 40, 0, 10, 5, 5, 0, 0, 0, 10,\n",
    "    40, 30, 0, 5, 10, 5, 5, 0, 0, 5,\n",
    "    40, 30, 0, 10, 5, 5, 5, 0, 0, 5,\n",
    "    50, 10, 0, 10, 5, 10, 0, 5, 0, 10\n",
    "  )\n",
    ")\n",
    "\n",
    "# Scale the population to 5000\n",
    "scaled_continent_pop <- continent_pop_2021 %>%\n",
    "  mutate(\n",
    "    scaled_population = (population / world_pop_2021) * 5000\n",
    "  )\n",
    "\n",
    "# Join the housing data with the scaled continent population data\n",
    "scaled_continent_pop_housing <- scaled_continent_pop %>%\n",
    "  inner_join(housing_data, by = \"continent\") %>%\n",
    "  mutate(\n",
    "    housing_population = round(scaled_population * housing_type_percentage / 100)\n",
    "  )\n",
    "\n",
    "# Perform cross-tabulation and create a three-way table\n",
    "three_way_table <- with(scaled_continent_pop_housing, ftable(continent, housing_type, housing_population))\n",
    "print(three_way_table)\n",
    "\n",
    "\n"
   ]
  },
  {
   "cell_type": "code",
   "execution_count": null,
   "id": "875945f9",
   "metadata": {},
   "outputs": [],
   "source": []
  },
  {
   "cell_type": "code",
   "execution_count": null,
   "id": "734a42b5",
   "metadata": {},
   "outputs": [],
   "source": []
  },
  {
   "cell_type": "code",
   "execution_count": null,
   "id": "ab90d09e",
   "metadata": {},
   "outputs": [],
   "source": []
  },
  {
   "cell_type": "code",
   "execution_count": null,
   "id": "759a9efa",
   "metadata": {},
   "outputs": [],
   "source": []
  }
 ],
 "metadata": {
  "kernelspec": {
   "display_name": "Python 3 (ipykernel)",
   "language": "python",
   "name": "python3"
  },
  "language_info": {
   "codemirror_mode": {
    "name": "ipython",
    "version": 3
   },
   "file_extension": ".py",
   "mimetype": "text/x-python",
   "name": "python",
   "nbconvert_exporter": "python",
   "pygments_lexer": "ipython3",
   "version": "3.10.10"
  }
 },
 "nbformat": 4,
 "nbformat_minor": 5
}
